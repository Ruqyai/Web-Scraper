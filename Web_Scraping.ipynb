{
  "nbformat": 4,
  "nbformat_minor": 0,
  "metadata": {
    "kernelspec": {
      "display_name": "Python 3",
      "language": "python",
      "name": "python3"
    },
    "language_info": {
      "codemirror_mode": {
        "name": "ipython",
        "version": 3
      },
      "file_extension": ".py",
      "mimetype": "text/x-python",
      "name": "python",
      "nbconvert_exporter": "python",
      "pygments_lexer": "ipython3",
      "version": "3.6.1"
    },
    "colab": {
      "name": "Web Scraping.ipynb",
      "provenance": [],
      "include_colab_link": true
    }
  },
  "cells": [
    {
      "cell_type": "markdown",
      "metadata": {
        "id": "view-in-github",
        "colab_type": "text"
      },
      "source": [
        "<a href=\"https://colab.research.google.com/github/Ruqyai/Web-Scraper/blob/master/Web_Scraping.ipynb\" target=\"_parent\"><img src=\"https://colab.research.google.com/assets/colab-badge.svg\" alt=\"Open In Colab\"/></a>"
      ]
    },
    {
      "cell_type": "markdown",
      "metadata": {
        "id": "pK3jb2efyY4f",
        "colab_type": "text"
      },
      "source": [
        "#Web Scraping"
      ]
    },
    {
      "cell_type": "markdown",
      "metadata": {
        "id": "H4e_B70DNSxL",
        "colab_type": "text"
      },
      "source": [
        "<h1>Basic Steps: :</h1>"
      ]
    },
    {
      "cell_type": "markdown",
      "metadata": {
        "id": "8WjSKsHryfm7",
        "colab_type": "text"
      },
      "source": [
        "* Find the URL that you want to scrape.\n",
        "* Inspecting the elements of the page.\n",
        "* Bring the Html page using the URL.\n",
        "* Find the data you want to extract.\n",
        "* Write the code for scraping the specific HTML Tag that you want.\n",
        "* Parse it if that's necessary.\n",
        "* Run the code and extract the data.\n",
        "* Store the data in the required format, e.g. CSV.\n",
        "* You can use pandas to show the result before or after saved.\n",
        "\n"
      ]
    },
    {
      "cell_type": "markdown",
      "metadata": {
        "id": "GS65okPvdYLD",
        "colab_type": "text"
      },
      "source": [
        "##Find the URL that you want to scrape."
      ]
    },
    {
      "cell_type": "markdown",
      "metadata": {
        "id": "XPmRJfRoLKhj",
        "colab_type": "text"
      },
      "source": [
        "The URLs that we will use"
      ]
    },
    {
      "cell_type": "markdown",
      "metadata": {
        "id": "TarJNqW_FiVh",
        "colab_type": "text"
      },
      "source": [
        "http://www.pythonscraping.com/pages/page3.html"
      ]
    },
    {
      "cell_type": "markdown",
      "metadata": {
        "id": "n6nc-pIiLVnt",
        "colab_type": "text"
      },
      "source": [
        "Remember robots.txt file  \n",
        "\n",
        "http://www.pythonscraping.com/robots.txt\n"
      ]
    },
    {
      "cell_type": "markdown",
      "metadata": {
        "id": "Ly0UbOsrqR68",
        "colab_type": "text"
      },
      "source": [
        "You need basic knowledge with HTML and CSS. Also, you’ll need to understand the site structure to extract the information you’re interested in."
      ]
    },
    {
      "cell_type": "markdown",
      "metadata": {
        "id": "2KkyJ1IE7JuQ",
        "colab_type": "text"
      },
      "source": [
        "![alt text](https://github.com/Ruqyai/Web-Scraper/blob/master/web/html.png?raw=true)"
      ]
    },
    {
      "cell_type": "markdown",
      "metadata": {
        "id": "DwhdTDYaZrJ6",
        "colab_type": "text"
      },
      "source": [
        "##Inspecting the elements of the page"
      ]
    },
    {
      "cell_type": "markdown",
      "metadata": {
        "id": "YaILYVOIo6Jo",
        "colab_type": "text"
      },
      "source": [
        "<img src=\"https://3.bp.blogspot.com/-AD-DM0S6tPc/VJE3ZPA9PUI/AAAAAAAADtw/-FTCawVS1_s/s1600/inspect-element.gif\" width=100% />\n"
      ]
    },
    {
      "cell_type": "markdown",
      "metadata": {
        "id": "SZyYiwXdpYJS",
        "colab_type": "text"
      },
      "source": [
        "<img src=\"https://lh3.googleusercontent.com/proxy/8oXttju3H-nUClaQGPSfDihbVFbxzGv70G0dRST1kqVW2NKLe788t6MyIdpa6_ETppPDivHaKDefGProsotCm-E52FFHiQpO_cZgAE6cgna4ECVu8Tv66wf2DpYf6Q31og\" width=100% />"
      ]
    },
    {
      "cell_type": "markdown",
      "metadata": {
        "id": "M6YFZC6yZw0n",
        "colab_type": "text"
      },
      "source": [
        "\n",
        "<img src=\"https://iamvdo.me/content/01-blog/32-le-debug-css-est-difficile/2-apple-inspecting.gif\" width=100% />\n"
      ]
    },
    {
      "cell_type": "markdown",
      "metadata": {
        "id": "yXdkIUo1K5I-",
        "colab_type": "text"
      },
      "source": [
        "#Example 1"
      ]
    },
    {
      "cell_type": "markdown",
      "metadata": {
        "id": "L_509DUGLxsJ",
        "colab_type": "text"
      },
      "source": [
        "##Bring the Html page using the URL."
      ]
    },
    {
      "cell_type": "code",
      "metadata": {
        "id": "Xatv68fvFTE2",
        "colab_type": "code",
        "colab": {
          "base_uri": "https://localhost:8080/",
          "height": 1000
        },
        "outputId": "ea915f61-aaf9-4a53-c848-ced14925f90c"
      },
      "source": [
        "from urllib.request import urlopen #help in opening URLs.\n",
        "from bs4 import BeautifulSoup #for pulling data out of HTML and XML files.\n",
        "\n",
        "html = urlopen('http://www.pythonscraping.com/pages/page3.html')\n",
        "bs = BeautifulSoup(html, \"html.parser\")#BeautifulSoup(html, \"html.parser\")# BeautifulSoup(html, \"lxml\") # BeautifulSoup(html, \"html5lib\")\n",
        "print(bs)"
      ],
      "execution_count": 1,
      "outputs": [
        {
          "output_type": "stream",
          "text": [
            "<html>\n",
            "<head>\n",
            "<style>\n",
            "img{\n",
            "\twidth:75px;\n",
            "}\n",
            "table{\n",
            "\twidth:50%;\n",
            "}\n",
            "td{\n",
            "\tmargin:10px;\n",
            "\tpadding:10px;\n",
            "}\n",
            ".wrapper{\n",
            "\twidth:800px;\n",
            "}\n",
            ".excitingNote{\n",
            "\tfont-style:italic;\n",
            "\tfont-weight:bold;\n",
            "}\n",
            "</style>\n",
            "</head>\n",
            "<body>\n",
            "<div id=\"wrapper\">\n",
            "<img src=\"../img/gifts/logo.jpg\" style=\"float:left;\"/>\n",
            "<h1>Totally Normal Gifts</h1>\n",
            "<div id=\"content\">Here is a collection of totally normal, totally reasonable gifts that your friends are sure to love! Our collection is\n",
            "hand-curated by well-paid, free-range Tibetan monks.<p>\n",
            "We haven't figured out how to make online shopping carts yet, but you can send us a check to:<br/>\n",
            "123 Main St.<br/>\n",
            "Abuja, Nigeria\n",
            "We will then send your totally amazing gift, pronto! Please include an extra $5.00 for gift wrapping.</p></div>\n",
            "<table id=\"giftList\">\n",
            "<tr><th>\n",
            "Item Title\n",
            "</th><th>\n",
            "Description\n",
            "</th><th>\n",
            "Cost\n",
            "</th><th>\n",
            "Image\n",
            "</th></tr>\n",
            "<tr class=\"gift\" id=\"gift1\"><td>\n",
            "Vegetable Basket\n",
            "</td><td>\n",
            "This vegetable basket is the perfect gift for your health conscious (or overweight) friends!\n",
            "<span class=\"excitingNote\">Now with super-colorful bell peppers!</span>\n",
            "</td><td>\n",
            "$15.00\n",
            "</td><td>\n",
            "<img src=\"../img/gifts/img1.jpg\"/>\n",
            "</td></tr>\n",
            "<tr class=\"gift\" id=\"gift2\"><td>\n",
            "Russian Nesting Dolls\n",
            "</td><td>\n",
            "Hand-painted by trained monkeys, these exquisite dolls are priceless! And by \"priceless,\" we mean \"extremely expensive\"! <span class=\"excitingNote\">8 entire dolls per set! Octuple the presents!</span>\n",
            "</td><td>\n",
            "$10,000.52\n",
            "</td><td>\n",
            "<img src=\"../img/gifts/img2.jpg\"/>\n",
            "</td></tr>\n",
            "<tr class=\"gift\" id=\"gift3\"><td>\n",
            "Fish Painting\n",
            "</td><td>\n",
            "If something seems fishy about this painting, it's because it's a fish! <span class=\"excitingNote\">Also hand-painted by trained monkeys!</span>\n",
            "</td><td>\n",
            "$10,005.00\n",
            "</td><td>\n",
            "<img src=\"../img/gifts/img3.jpg\"/>\n",
            "</td></tr>\n",
            "<tr class=\"gift\" id=\"gift4\"><td>\n",
            "Dead Parrot\n",
            "</td><td>\n",
            "This is an ex-parrot! <span class=\"excitingNote\">Or maybe he's only resting?</span>\n",
            "</td><td>\n",
            "$0.50\n",
            "</td><td>\n",
            "<img src=\"../img/gifts/img4.jpg\"/>\n",
            "</td></tr>\n",
            "<tr class=\"gift\" id=\"gift5\"><td>\n",
            "Mystery Box\n",
            "</td><td>\n",
            "If you love suprises, this mystery box is for you! Do not place on light-colored surfaces. May cause oil staining. <span class=\"excitingNote\">Keep your friends guessing!</span>\n",
            "</td><td>\n",
            "$1.50\n",
            "</td><td>\n",
            "<img src=\"../img/gifts/img6.jpg\"/>\n",
            "</td></tr>\n",
            "</table>\n",
            "</div></body></html>\n",
            "<div id=\"footer\">\n",
            "© Totally Normal Gifts, Inc. <br/>\n",
            "+234 (617) 863-0736\n",
            "</div>\n",
            "\n",
            "\n",
            "\n",
            "\n"
          ],
          "name": "stdout"
        }
      ]
    },
    {
      "cell_type": "markdown",
      "metadata": {
        "id": "bEkcq-_EeUH9",
        "colab_type": "text"
      },
      "source": [
        "##Find the data you want to extract."
      ]
    },
    {
      "cell_type": "markdown",
      "metadata": {
        "id": "LnwRKgKlJvG7",
        "colab_type": "text"
      },
      "source": [
        "##Write the code for scraping the specific HTML Tag that you want.\n"
      ]
    },
    {
      "cell_type": "code",
      "metadata": {
        "id": "yYpur5TGMJ_v",
        "colab_type": "code",
        "colab": {
          "base_uri": "https://localhost:8080/",
          "height": 1000
        },
        "outputId": "861817c9-2652-4a46-f6a8-d43cd1ef5ce6"
      },
      "source": [
        "# all div of the page\n",
        "print(bs.div)"
      ],
      "execution_count": 2,
      "outputs": [
        {
          "output_type": "stream",
          "text": [
            "<div id=\"wrapper\">\n",
            "<img src=\"../img/gifts/logo.jpg\" style=\"float:left;\"/>\n",
            "<h1>Totally Normal Gifts</h1>\n",
            "<div id=\"content\">Here is a collection of totally normal, totally reasonable gifts that your friends are sure to love! Our collection is\n",
            "hand-curated by well-paid, free-range Tibetan monks.<p>\n",
            "We haven't figured out how to make online shopping carts yet, but you can send us a check to:<br/>\n",
            "123 Main St.<br/>\n",
            "Abuja, Nigeria\n",
            "We will then send your totally amazing gift, pronto! Please include an extra $5.00 for gift wrapping.</p></div>\n",
            "<table id=\"giftList\">\n",
            "<tr><th>\n",
            "Item Title\n",
            "</th><th>\n",
            "Description\n",
            "</th><th>\n",
            "Cost\n",
            "</th><th>\n",
            "Image\n",
            "</th></tr>\n",
            "<tr class=\"gift\" id=\"gift1\"><td>\n",
            "Vegetable Basket\n",
            "</td><td>\n",
            "This vegetable basket is the perfect gift for your health conscious (or overweight) friends!\n",
            "<span class=\"excitingNote\">Now with super-colorful bell peppers!</span>\n",
            "</td><td>\n",
            "$15.00\n",
            "</td><td>\n",
            "<img src=\"../img/gifts/img1.jpg\"/>\n",
            "</td></tr>\n",
            "<tr class=\"gift\" id=\"gift2\"><td>\n",
            "Russian Nesting Dolls\n",
            "</td><td>\n",
            "Hand-painted by trained monkeys, these exquisite dolls are priceless! And by \"priceless,\" we mean \"extremely expensive\"! <span class=\"excitingNote\">8 entire dolls per set! Octuple the presents!</span>\n",
            "</td><td>\n",
            "$10,000.52\n",
            "</td><td>\n",
            "<img src=\"../img/gifts/img2.jpg\"/>\n",
            "</td></tr>\n",
            "<tr class=\"gift\" id=\"gift3\"><td>\n",
            "Fish Painting\n",
            "</td><td>\n",
            "If something seems fishy about this painting, it's because it's a fish! <span class=\"excitingNote\">Also hand-painted by trained monkeys!</span>\n",
            "</td><td>\n",
            "$10,005.00\n",
            "</td><td>\n",
            "<img src=\"../img/gifts/img3.jpg\"/>\n",
            "</td></tr>\n",
            "<tr class=\"gift\" id=\"gift4\"><td>\n",
            "Dead Parrot\n",
            "</td><td>\n",
            "This is an ex-parrot! <span class=\"excitingNote\">Or maybe he's only resting?</span>\n",
            "</td><td>\n",
            "$0.50\n",
            "</td><td>\n",
            "<img src=\"../img/gifts/img4.jpg\"/>\n",
            "</td></tr>\n",
            "<tr class=\"gift\" id=\"gift5\"><td>\n",
            "Mystery Box\n",
            "</td><td>\n",
            "If you love suprises, this mystery box is for you! Do not place on light-colored surfaces. May cause oil staining. <span class=\"excitingNote\">Keep your friends guessing!</span>\n",
            "</td><td>\n",
            "$1.50\n",
            "</td><td>\n",
            "<img src=\"../img/gifts/img6.jpg\"/>\n",
            "</td></tr>\n",
            "</table>\n",
            "</div>\n"
          ],
          "name": "stdout"
        }
      ]
    },
    {
      "cell_type": "code",
      "metadata": {
        "id": "A05dwf51s3Bi",
        "colab_type": "code",
        "colab": {
          "base_uri": "https://localhost:8080/",
          "height": 102
        },
        "outputId": "fb5c9e93-851b-4c45-825e-8ade63b6d035"
      },
      "source": [
        "# all paragraph of the page\n",
        "print(bs.p)\n"
      ],
      "execution_count": 3,
      "outputs": [
        {
          "output_type": "stream",
          "text": [
            "<p>\n",
            "We haven't figured out how to make online shopping carts yet, but you can send us a check to:<br/>\n",
            "123 Main St.<br/>\n",
            "Abuja, Nigeria\n",
            "We will then send your totally amazing gift, pronto! Please include an extra $5.00 for gift wrapping.</p>\n"
          ],
          "name": "stdout"
        }
      ]
    },
    {
      "cell_type": "code",
      "metadata": {
        "id": "VGj72p3_s5Xz",
        "colab_type": "code",
        "colab": {
          "base_uri": "https://localhost:8080/",
          "height": 34
        },
        "outputId": "cbedac6c-c90d-4a50-cc5a-4faf301df4b2"
      },
      "source": [
        "# all header 1 of the page\n",
        "print(bs.h1)"
      ],
      "execution_count": 4,
      "outputs": [
        {
          "output_type": "stream",
          "text": [
            "<h1>Totally Normal Gifts</h1>\n"
          ],
          "name": "stdout"
        }
      ]
    },
    {
      "cell_type": "markdown",
      "metadata": {
        "id": "K51DtoKGMKlu",
        "colab_type": "text"
      },
      "source": [
        "### Find the tags, get the text and Using CSS "
      ]
    },
    {
      "cell_type": "code",
      "metadata": {
        "id": "fUDI2PfDFTE5",
        "colab_type": "code",
        "outputId": "7580aa28-e77f-418d-bfef-b0262053e8ad",
        "colab": {
          "base_uri": "https://localhost:8080/",
          "height": 119
        }
      },
      "source": [
        "divList = bs.findAll('div', {'id': 'content'})\n",
        "for tag in divList:\n",
        "    print(tag.get_text())"
      ],
      "execution_count": 5,
      "outputs": [
        {
          "output_type": "stream",
          "text": [
            "Here is a collection of totally normal, totally reasonable gifts that your friends are sure to love! Our collection is\n",
            "hand-curated by well-paid, free-range Tibetan monks.\n",
            "We haven't figured out how to make online shopping carts yet, but you can send us a check to:\n",
            "123 Main St.\n",
            "Abuja, Nigeria\n",
            "We will then send your totally amazing gift, pronto! Please include an extra $5.00 for gift wrapping.\n"
          ],
          "name": "stdout"
        }
      ]
    },
    {
      "cell_type": "code",
      "metadata": {
        "id": "XhfLrpbzKER-",
        "colab_type": "code",
        "colab": {
          "base_uri": "https://localhost:8080/",
          "height": 102
        },
        "outputId": "ef18d1be-6cd2-471b-cdab-cbb2cf24b0d7"
      },
      "source": [
        "paragraphs = bs.body\n",
        "for paragraph in paragraphs.find_all('p'):\n",
        "    print(paragraph.text)"
      ],
      "execution_count": 6,
      "outputs": [
        {
          "output_type": "stream",
          "text": [
            "\n",
            "We haven't figured out how to make online shopping carts yet, but you can send us a check to:\n",
            "123 Main St.\n",
            "Abuja, Nigeria\n",
            "We will then send your totally amazing gift, pronto! Please include an extra $5.00 for gift wrapping.\n"
          ],
          "name": "stdout"
        }
      ]
    },
    {
      "cell_type": "code",
      "metadata": {
        "id": "Be1gzMTFFTE8",
        "colab_type": "code",
        "colab": {
          "base_uri": "https://localhost:8080/",
          "height": 34
        },
        "outputId": "5717b5fd-fc5b-4bf4-8e0a-47d56aa3816c"
      },
      "source": [
        "titles = bs.find_all(['h1', 'h2','h3','h4','h5','h6'])\n",
        "print([title for title in titles])\n"
      ],
      "execution_count": 7,
      "outputs": [
        {
          "output_type": "stream",
          "text": [
            "[<h1>Totally Normal Gifts</h1>]\n"
          ],
          "name": "stdout"
        }
      ]
    },
    {
      "cell_type": "code",
      "metadata": {
        "id": "cwrjfr3kFTFA",
        "colab_type": "code",
        "colab": {
          "base_uri": "https://localhost:8080/",
          "height": 54
        },
        "outputId": "7243fa71-565f-4eb9-c921-989e6a46859d"
      },
      "source": [
        "boldText = bs.find_all('span', {'class':'excitingNote'})\n",
        "print([text for text in boldText])"
      ],
      "execution_count": 8,
      "outputs": [
        {
          "output_type": "stream",
          "text": [
            "[<span class=\"excitingNote\">Now with super-colorful bell peppers!</span>, <span class=\"excitingNote\">8 entire dolls per set! Octuple the presents!</span>, <span class=\"excitingNote\">Also hand-painted by trained monkeys!</span>, <span class=\"excitingNote\">Or maybe he's only resting?</span>, <span class=\"excitingNote\">Keep your friends guessing!</span>]\n"
          ],
          "name": "stdout"
        }
      ]
    },
    {
      "cell_type": "code",
      "metadata": {
        "id": "2h-fleu1FTFC",
        "colab_type": "code",
        "outputId": "58a58fd8-5bde-43f0-cace-cfc411ccc370",
        "colab": {
          "base_uri": "https://localhost:8080/",
          "height": 34
        }
      },
      "source": [
        "textList = bs.find_all(text='Now with super-colorful bell peppers!')\n",
        "print(len(textList))"
      ],
      "execution_count": 9,
      "outputs": [
        {
          "output_type": "stream",
          "text": [
            "1\n"
          ],
          "name": "stdout"
        }
      ]
    },
    {
      "cell_type": "code",
      "metadata": {
        "id": "9gSSezrXFTFE",
        "colab_type": "code",
        "colab": {
          "base_uri": "https://localhost:8080/",
          "height": 190
        },
        "outputId": "150fdcd5-a372-489c-f23f-ed2caae2b1a4"
      },
      "source": [
        "row = bs.find_all(id='gift5', class_='gift')\n",
        "print([text for text in row])"
      ],
      "execution_count": 10,
      "outputs": [
        {
          "output_type": "stream",
          "text": [
            "[<tr class=\"gift\" id=\"gift5\"><td>\n",
            "Mystery Box\n",
            "</td><td>\n",
            "If you love suprises, this mystery box is for you! Do not place on light-colored surfaces. May cause oil staining. <span class=\"excitingNote\">Keep your friends guessing!</span>\n",
            "</td><td>\n",
            "$1.50\n",
            "</td><td>\n",
            "<img src=\"../img/gifts/img6.jpg\"/>\n",
            "</td></tr>]\n"
          ],
          "name": "stdout"
        }
      ]
    },
    {
      "cell_type": "markdown",
      "metadata": {
        "id": "7R7vbTNhJS8Z",
        "colab_type": "text"
      },
      "source": [
        "## Write a CSV File"
      ]
    },
    {
      "cell_type": "markdown",
      "metadata": {
        "id": "vM3SZDcD7DeY",
        "colab_type": "text"
      },
      "source": [
        "![alt text](https://github.com/Ruqyai/Web-Scraper/blob/master/web/csv.jpg?raw=true/)"
      ]
    },
    {
      "cell_type": "code",
      "metadata": {
        "id": "Ghel7yQOGBpR",
        "colab_type": "code",
        "colab": {
          "base_uri": "https://localhost:8080/",
          "height": 751
        },
        "outputId": "709c09b9-42bb-4437-a983-231dad78cdb4"
      },
      "source": [
        "# name the output file to write to local disk\n",
        "out_filename = \"file.csv\"\n",
        "# header of csv file to be written\n",
        "headers = \"Item Title,Description,Cost \\n\"\n",
        "row_s = bs.find_all('td')\n",
        "print(row_s)\n"
      ],
      "execution_count": 11,
      "outputs": [
        {
          "output_type": "stream",
          "text": [
            "[<td>\n",
            "Vegetable Basket\n",
            "</td>, <td>\n",
            "This vegetable basket is the perfect gift for your health conscious (or overweight) friends!\n",
            "<span class=\"excitingNote\">Now with super-colorful bell peppers!</span>\n",
            "</td>, <td>\n",
            "$15.00\n",
            "</td>, <td>\n",
            "<img src=\"../img/gifts/img1.jpg\"/>\n",
            "</td>, <td>\n",
            "Russian Nesting Dolls\n",
            "</td>, <td>\n",
            "Hand-painted by trained monkeys, these exquisite dolls are priceless! And by \"priceless,\" we mean \"extremely expensive\"! <span class=\"excitingNote\">8 entire dolls per set! Octuple the presents!</span>\n",
            "</td>, <td>\n",
            "$10,000.52\n",
            "</td>, <td>\n",
            "<img src=\"../img/gifts/img2.jpg\"/>\n",
            "</td>, <td>\n",
            "Fish Painting\n",
            "</td>, <td>\n",
            "If something seems fishy about this painting, it's because it's a fish! <span class=\"excitingNote\">Also hand-painted by trained monkeys!</span>\n",
            "</td>, <td>\n",
            "$10,005.00\n",
            "</td>, <td>\n",
            "<img src=\"../img/gifts/img3.jpg\"/>\n",
            "</td>, <td>\n",
            "Dead Parrot\n",
            "</td>, <td>\n",
            "This is an ex-parrot! <span class=\"excitingNote\">Or maybe he's only resting?</span>\n",
            "</td>, <td>\n",
            "$0.50\n",
            "</td>, <td>\n",
            "<img src=\"../img/gifts/img4.jpg\"/>\n",
            "</td>, <td>\n",
            "Mystery Box\n",
            "</td>, <td>\n",
            "If you love suprises, this mystery box is for you! Do not place on light-colored surfaces. May cause oil staining. <span class=\"excitingNote\">Keep your friends guessing!</span>\n",
            "</td>, <td>\n",
            "$1.50\n",
            "</td>, <td>\n",
            "<img src=\"../img/gifts/img6.jpg\"/>\n",
            "</td>]\n"
          ],
          "name": "stdout"
        }
      ]
    },
    {
      "cell_type": "code",
      "metadata": {
        "id": "0wyZsQ8tGXIc",
        "colab_type": "code",
        "colab": {}
      },
      "source": [
        "# opens file, and writes headers\n",
        "f = open(out_filename, \"w\")\n",
        "f.write(headers)\n",
        "# loops \n",
        "for value in row_s:\n",
        "    row = value.get_text()\n",
        "    #Parse it if that's necessary\n",
        "    row = row.replace('\\n', '')\n",
        "    row = row.replace(',', '')\n",
        "    row = row.replace('  ', '')\n",
        "    # write to file\n",
        "    f.write(row + \", \" + row + \", \" + row + \"\\n\")\n",
        "f.close()  # Close the file"
      ],
      "execution_count": 0,
      "outputs": []
    },
    {
      "cell_type": "code",
      "metadata": {
        "id": "E2Xhv43VjrOJ",
        "colab_type": "code",
        "colab": {
          "base_uri": "https://localhost:8080/",
          "height": 394
        },
        "outputId": "d233859a-e63d-4522-f52a-3b25f38e7617"
      },
      "source": [
        "!cat file.csv"
      ],
      "execution_count": 13,
      "outputs": [
        {
          "output_type": "stream",
          "text": [
            "Item Title,Description,Cost \n",
            "Vegetable Basket, Vegetable Basket, Vegetable Basket\n",
            "This vegetable basket is the perfect gift for your health conscious (or overweight) friends!Now with super-colorful bell peppers!, This vegetable basket is the perfect gift for your health conscious (or overweight) friends!Now with super-colorful bell peppers!, This vegetable basket is the perfect gift for your health conscious (or overweight) friends!Now with super-colorful bell peppers!\n",
            "$15.00, $15.00, $15.00\n",
            ", , \n",
            "Russian Nesting Dolls, Russian Nesting Dolls, Russian Nesting Dolls\n",
            "Hand-painted by trained monkeys these exquisite dolls are priceless! And by \"priceless\" we mean \"extremely expensive\"! 8 entire dolls per set! Octuple the presents!, Hand-painted by trained monkeys these exquisite dolls are priceless! And by \"priceless\" we mean \"extremely expensive\"! 8 entire dolls per set! Octuple the presents!, Hand-painted by trained monkeys these exquisite dolls are priceless! And by \"priceless\" we mean \"extremely expensive\"! 8 entire dolls per set! Octuple the presents!\n",
            "$10000.52, $10000.52, $10000.52\n",
            ", , \n",
            "Fish Painting, Fish Painting, Fish Painting\n",
            "If something seems fishy about this painting it's because it's a fish! Also hand-painted by trained monkeys!, If something seems fishy about this painting it's because it's a fish! Also hand-painted by trained monkeys!, If something seems fishy about this painting it's because it's a fish! Also hand-painted by trained monkeys!\n",
            "$10005.00, $10005.00, $10005.00\n",
            ", , \n",
            "Dead Parrot, Dead Parrot, Dead Parrot\n",
            "This is an ex-parrot! Or maybe he's only resting?, This is an ex-parrot! Or maybe he's only resting?, This is an ex-parrot! Or maybe he's only resting?\n",
            "$0.50, $0.50, $0.50\n",
            ", , \n",
            "Mystery Box, Mystery Box, Mystery Box\n",
            "If you love suprises this mystery box is for you! Do not place on light-colored surfaces. May cause oil staining. Keep your friends guessing!, If you love suprises this mystery box is for you! Do not place on light-colored surfaces. May cause oil staining. Keep your friends guessing!, If you love suprises this mystery box is for you! Do not place on light-colored surfaces. May cause oil staining. Keep your friends guessing!\n",
            "$1.50, $1.50, $1.50\n",
            ", , \n"
          ],
          "name": "stdout"
        }
      ]
    },
    {
      "cell_type": "markdown",
      "metadata": {
        "id": "D_6Pj8tHJcIa",
        "colab_type": "text"
      },
      "source": [
        "## Show The CSV File"
      ]
    },
    {
      "cell_type": "code",
      "metadata": {
        "id": "idIXfBGIHboe",
        "colab_type": "code",
        "outputId": "4ce34c87-7994-45e4-eb44-94635d9fcd82",
        "colab": {
          "base_uri": "https://localhost:8080/",
          "height": 514
        }
      },
      "source": [
        "import pandas as pd\n",
        "df = pd.read_csv(out_filename)\n",
        "df.head(15)"
      ],
      "execution_count": 14,
      "outputs": [
        {
          "output_type": "execute_result",
          "data": {
            "text/html": [
              "<div>\n",
              "<style scoped>\n",
              "    .dataframe tbody tr th:only-of-type {\n",
              "        vertical-align: middle;\n",
              "    }\n",
              "\n",
              "    .dataframe tbody tr th {\n",
              "        vertical-align: top;\n",
              "    }\n",
              "\n",
              "    .dataframe thead th {\n",
              "        text-align: right;\n",
              "    }\n",
              "</style>\n",
              "<table border=\"1\" class=\"dataframe\">\n",
              "  <thead>\n",
              "    <tr style=\"text-align: right;\">\n",
              "      <th></th>\n",
              "      <th>Item Title</th>\n",
              "      <th>Description</th>\n",
              "      <th>Cost</th>\n",
              "    </tr>\n",
              "  </thead>\n",
              "  <tbody>\n",
              "    <tr>\n",
              "      <th>0</th>\n",
              "      <td>Vegetable Basket</td>\n",
              "      <td>Vegetable Basket</td>\n",
              "      <td>Vegetable Basket</td>\n",
              "    </tr>\n",
              "    <tr>\n",
              "      <th>1</th>\n",
              "      <td>This vegetable basket is the perfect gift for ...</td>\n",
              "      <td>This vegetable basket is the perfect gift for...</td>\n",
              "      <td>This vegetable basket is the perfect gift for...</td>\n",
              "    </tr>\n",
              "    <tr>\n",
              "      <th>2</th>\n",
              "      <td>$15.00</td>\n",
              "      <td>$15.00</td>\n",
              "      <td>$15.00</td>\n",
              "    </tr>\n",
              "    <tr>\n",
              "      <th>3</th>\n",
              "      <td>NaN</td>\n",
              "      <td></td>\n",
              "      <td></td>\n",
              "    </tr>\n",
              "    <tr>\n",
              "      <th>4</th>\n",
              "      <td>Russian Nesting Dolls</td>\n",
              "      <td>Russian Nesting Dolls</td>\n",
              "      <td>Russian Nesting Dolls</td>\n",
              "    </tr>\n",
              "    <tr>\n",
              "      <th>5</th>\n",
              "      <td>Hand-painted by trained monkeys these exquisit...</td>\n",
              "      <td>Hand-painted by trained monkeys these exquisi...</td>\n",
              "      <td>Hand-painted by trained monkeys these exquisi...</td>\n",
              "    </tr>\n",
              "    <tr>\n",
              "      <th>6</th>\n",
              "      <td>$10000.52</td>\n",
              "      <td>$10000.52</td>\n",
              "      <td>$10000.52</td>\n",
              "    </tr>\n",
              "    <tr>\n",
              "      <th>7</th>\n",
              "      <td>NaN</td>\n",
              "      <td></td>\n",
              "      <td></td>\n",
              "    </tr>\n",
              "    <tr>\n",
              "      <th>8</th>\n",
              "      <td>Fish Painting</td>\n",
              "      <td>Fish Painting</td>\n",
              "      <td>Fish Painting</td>\n",
              "    </tr>\n",
              "    <tr>\n",
              "      <th>9</th>\n",
              "      <td>If something seems fishy about this painting i...</td>\n",
              "      <td>If something seems fishy about this painting ...</td>\n",
              "      <td>If something seems fishy about this painting ...</td>\n",
              "    </tr>\n",
              "    <tr>\n",
              "      <th>10</th>\n",
              "      <td>$10005.00</td>\n",
              "      <td>$10005.00</td>\n",
              "      <td>$10005.00</td>\n",
              "    </tr>\n",
              "    <tr>\n",
              "      <th>11</th>\n",
              "      <td>NaN</td>\n",
              "      <td></td>\n",
              "      <td></td>\n",
              "    </tr>\n",
              "    <tr>\n",
              "      <th>12</th>\n",
              "      <td>Dead Parrot</td>\n",
              "      <td>Dead Parrot</td>\n",
              "      <td>Dead Parrot</td>\n",
              "    </tr>\n",
              "    <tr>\n",
              "      <th>13</th>\n",
              "      <td>This is an ex-parrot! Or maybe he's only resting?</td>\n",
              "      <td>This is an ex-parrot! Or maybe he's only rest...</td>\n",
              "      <td>This is an ex-parrot! Or maybe he's only rest...</td>\n",
              "    </tr>\n",
              "    <tr>\n",
              "      <th>14</th>\n",
              "      <td>$0.50</td>\n",
              "      <td>$0.50</td>\n",
              "      <td>$0.50</td>\n",
              "    </tr>\n",
              "  </tbody>\n",
              "</table>\n",
              "</div>"
            ],
            "text/plain": [
              "                                           Item Title  ...                                              Cost \n",
              "0                                    Vegetable Basket  ...                                   Vegetable Basket\n",
              "1   This vegetable basket is the perfect gift for ...  ...   This vegetable basket is the perfect gift for...\n",
              "2                                              $15.00  ...                                             $15.00\n",
              "3                                                 NaN  ...                                                   \n",
              "4                               Russian Nesting Dolls  ...                              Russian Nesting Dolls\n",
              "5   Hand-painted by trained monkeys these exquisit...  ...   Hand-painted by trained monkeys these exquisi...\n",
              "6                                           $10000.52  ...                                          $10000.52\n",
              "7                                                 NaN  ...                                                   \n",
              "8                                       Fish Painting  ...                                      Fish Painting\n",
              "9   If something seems fishy about this painting i...  ...   If something seems fishy about this painting ...\n",
              "10                                          $10005.00  ...                                          $10005.00\n",
              "11                                                NaN  ...                                                   \n",
              "12                                        Dead Parrot  ...                                        Dead Parrot\n",
              "13  This is an ex-parrot! Or maybe he's only resting?  ...   This is an ex-parrot! Or maybe he's only rest...\n",
              "14                                              $0.50  ...                                              $0.50\n",
              "\n",
              "[15 rows x 3 columns]"
            ]
          },
          "metadata": {
            "tags": []
          },
          "execution_count": 14
        }
      ]
    },
    {
      "cell_type": "markdown",
      "metadata": {
        "id": "5EBFEGkenvjD",
        "colab_type": "text"
      },
      "source": [
        "\n",
        "\n",
        "---\n",
        "\n"
      ]
    },
    {
      "cell_type": "markdown",
      "metadata": {
        "id": "EkKvHzlnJhAE",
        "colab_type": "text"
      },
      "source": [
        "#Example 2"
      ]
    },
    {
      "cell_type": "code",
      "metadata": {
        "id": "lcJOm4JCFTFH",
        "colab_type": "code",
        "colab": {}
      },
      "source": [
        "from urllib.request import urlopen\n",
        "from bs4 import BeautifulSoup\n",
        "\n",
        "html = urlopen('http://www.pythonscraping.com/pages/page3.html')\n",
        "bs = BeautifulSoup(html, 'html.parser')\n",
        "\n",
        "#for child in bs.find('table',{'id':'giftList'}).children:\n",
        "    #print(child)"
      ],
      "execution_count": 0,
      "outputs": []
    },
    {
      "cell_type": "code",
      "metadata": {
        "id": "XCcoHAFPFTFJ",
        "colab_type": "code",
        "colab": {}
      },
      "source": [
        "from urllib.request import urlopen\n",
        "from bs4 import BeautifulSoup\n",
        "\n",
        "html = urlopen('http://www.pythonscraping.com/pages/page3.html')\n",
        "bs = BeautifulSoup(html, 'html.parser')\n",
        "table = bs.find(\"table\")\n",
        "headings = [th.get_text() for th in table.find_all(\"th\")]\n",
        "rows = [th for th in table.find_all(\"tr\")]\n",
        "data = []\n",
        "for row in rows[1:]:\n",
        "  data.append([th.get_text() for th in row.find_all(\"td\")])\n",
        "\n"
      ],
      "execution_count": 0,
      "outputs": []
    },
    {
      "cell_type": "code",
      "metadata": {
        "id": "3AMGcMO1nQXz",
        "colab_type": "code",
        "colab": {
          "base_uri": "https://localhost:8080/",
          "height": 54
        },
        "outputId": "1a0a0562-a9f7-4464-a034-e6d90d129913"
      },
      "source": [
        "print(data)"
      ],
      "execution_count": 17,
      "outputs": [
        {
          "output_type": "stream",
          "text": [
            "[['\\nVegetable Basket\\n', '\\nThis vegetable basket is the perfect gift for your health conscious (or overweight) friends!\\nNow with super-colorful bell peppers!\\n', '\\n$15.00\\n', '\\n\\n'], ['\\nRussian Nesting Dolls\\n', '\\nHand-painted by trained monkeys, these exquisite dolls are priceless! And by \"priceless,\" we mean \"extremely expensive\"! 8 entire dolls per set! Octuple the presents!\\n', '\\n$10,000.52\\n', '\\n\\n'], ['\\nFish Painting\\n', \"\\nIf something seems fishy about this painting, it's because it's a fish! Also hand-painted by trained monkeys!\\n\", '\\n$10,005.00\\n', '\\n\\n'], ['\\nDead Parrot\\n', \"\\nThis is an ex-parrot! Or maybe he's only resting?\\n\", '\\n$0.50\\n', '\\n\\n'], ['\\nMystery Box\\n', '\\nIf you love suprises, this mystery box is for you! Do not place on light-colored surfaces. May cause oil staining. Keep your friends guessing!\\n', '\\n$1.50\\n', '\\n\\n']]\n"
          ],
          "name": "stdout"
        }
      ]
    },
    {
      "cell_type": "code",
      "metadata": {
        "id": "nRLi-OgTnJBd",
        "colab_type": "code",
        "colab": {
          "base_uri": "https://localhost:8080/",
          "height": 204
        },
        "outputId": "85f8e900-9f45-49e1-9a6e-831fbdea1f4e"
      },
      "source": [
        "data = pd.DataFrame(data, columns=headings)\n",
        "data.head()"
      ],
      "execution_count": 18,
      "outputs": [
        {
          "output_type": "execute_result",
          "data": {
            "text/html": [
              "<div>\n",
              "<style scoped>\n",
              "    .dataframe tbody tr th:only-of-type {\n",
              "        vertical-align: middle;\n",
              "    }\n",
              "\n",
              "    .dataframe tbody tr th {\n",
              "        vertical-align: top;\n",
              "    }\n",
              "\n",
              "    .dataframe thead th {\n",
              "        text-align: right;\n",
              "    }\n",
              "</style>\n",
              "<table border=\"1\" class=\"dataframe\">\n",
              "  <thead>\n",
              "    <tr style=\"text-align: right;\">\n",
              "      <th></th>\n",
              "      <th>\\nItem Title\\n</th>\n",
              "      <th>\\nDescription\\n</th>\n",
              "      <th>\\nCost\\n</th>\n",
              "      <th>\\nImage\\n</th>\n",
              "    </tr>\n",
              "  </thead>\n",
              "  <tbody>\n",
              "    <tr>\n",
              "      <th>0</th>\n",
              "      <td>\\nVegetable Basket\\n</td>\n",
              "      <td>\\nThis vegetable basket is the perfect gift fo...</td>\n",
              "      <td>\\n$15.00\\n</td>\n",
              "      <td>\\n\\n</td>\n",
              "    </tr>\n",
              "    <tr>\n",
              "      <th>1</th>\n",
              "      <td>\\nRussian Nesting Dolls\\n</td>\n",
              "      <td>\\nHand-painted by trained monkeys, these exqui...</td>\n",
              "      <td>\\n$10,000.52\\n</td>\n",
              "      <td>\\n\\n</td>\n",
              "    </tr>\n",
              "    <tr>\n",
              "      <th>2</th>\n",
              "      <td>\\nFish Painting\\n</td>\n",
              "      <td>\\nIf something seems fishy about this painting...</td>\n",
              "      <td>\\n$10,005.00\\n</td>\n",
              "      <td>\\n\\n</td>\n",
              "    </tr>\n",
              "    <tr>\n",
              "      <th>3</th>\n",
              "      <td>\\nDead Parrot\\n</td>\n",
              "      <td>\\nThis is an ex-parrot! Or maybe he's only res...</td>\n",
              "      <td>\\n$0.50\\n</td>\n",
              "      <td>\\n\\n</td>\n",
              "    </tr>\n",
              "    <tr>\n",
              "      <th>4</th>\n",
              "      <td>\\nMystery Box\\n</td>\n",
              "      <td>\\nIf you love suprises, this mystery box is fo...</td>\n",
              "      <td>\\n$1.50\\n</td>\n",
              "      <td>\\n\\n</td>\n",
              "    </tr>\n",
              "  </tbody>\n",
              "</table>\n",
              "</div>"
            ],
            "text/plain": [
              "              \\nItem Title\\n  ... \\nImage\\n\n",
              "0       \\nVegetable Basket\\n  ...      \\n\\n\n",
              "1  \\nRussian Nesting Dolls\\n  ...      \\n\\n\n",
              "2          \\nFish Painting\\n  ...      \\n\\n\n",
              "3            \\nDead Parrot\\n  ...      \\n\\n\n",
              "4            \\nMystery Box\\n  ...      \\n\\n\n",
              "\n",
              "[5 rows x 4 columns]"
            ]
          },
          "metadata": {
            "tags": []
          },
          "execution_count": 18
        }
      ]
    },
    {
      "cell_type": "markdown",
      "metadata": {
        "id": "wreBWKwwdXT5",
        "colab_type": "text"
      },
      "source": [
        "##Parse it if that's necessary"
      ]
    },
    {
      "cell_type": "markdown",
      "metadata": {
        "id": "tY4eHKEK7-FP",
        "colab_type": "text"
      },
      "source": [
        "\n",
        "Here are a few useful Regex resources:  \n",
        "\n",
        "https://regexr.com — Learn, build and test Regex  \n",
        "\n"
      ]
    },
    {
      "cell_type": "code",
      "metadata": {
        "id": "gn4S4lhvYC14",
        "colab_type": "code",
        "outputId": "f5434afd-b4dd-4871-a184-12b042a4b6d5",
        "colab": {
          "base_uri": "https://localhost:8080/",
          "height": 204
        }
      },
      "source": [
        "# some preprocessing \n",
        "data = data.rename(columns=lambda x: x.replace('\\n','').replace(',','')) \n",
        "data.head() "
      ],
      "execution_count": 19,
      "outputs": [
        {
          "output_type": "execute_result",
          "data": {
            "text/html": [
              "<div>\n",
              "<style scoped>\n",
              "    .dataframe tbody tr th:only-of-type {\n",
              "        vertical-align: middle;\n",
              "    }\n",
              "\n",
              "    .dataframe tbody tr th {\n",
              "        vertical-align: top;\n",
              "    }\n",
              "\n",
              "    .dataframe thead th {\n",
              "        text-align: right;\n",
              "    }\n",
              "</style>\n",
              "<table border=\"1\" class=\"dataframe\">\n",
              "  <thead>\n",
              "    <tr style=\"text-align: right;\">\n",
              "      <th></th>\n",
              "      <th>Item Title</th>\n",
              "      <th>Description</th>\n",
              "      <th>Cost</th>\n",
              "      <th>Image</th>\n",
              "    </tr>\n",
              "  </thead>\n",
              "  <tbody>\n",
              "    <tr>\n",
              "      <th>0</th>\n",
              "      <td>\\nVegetable Basket\\n</td>\n",
              "      <td>\\nThis vegetable basket is the perfect gift fo...</td>\n",
              "      <td>\\n$15.00\\n</td>\n",
              "      <td>\\n\\n</td>\n",
              "    </tr>\n",
              "    <tr>\n",
              "      <th>1</th>\n",
              "      <td>\\nRussian Nesting Dolls\\n</td>\n",
              "      <td>\\nHand-painted by trained monkeys, these exqui...</td>\n",
              "      <td>\\n$10,000.52\\n</td>\n",
              "      <td>\\n\\n</td>\n",
              "    </tr>\n",
              "    <tr>\n",
              "      <th>2</th>\n",
              "      <td>\\nFish Painting\\n</td>\n",
              "      <td>\\nIf something seems fishy about this painting...</td>\n",
              "      <td>\\n$10,005.00\\n</td>\n",
              "      <td>\\n\\n</td>\n",
              "    </tr>\n",
              "    <tr>\n",
              "      <th>3</th>\n",
              "      <td>\\nDead Parrot\\n</td>\n",
              "      <td>\\nThis is an ex-parrot! Or maybe he's only res...</td>\n",
              "      <td>\\n$0.50\\n</td>\n",
              "      <td>\\n\\n</td>\n",
              "    </tr>\n",
              "    <tr>\n",
              "      <th>4</th>\n",
              "      <td>\\nMystery Box\\n</td>\n",
              "      <td>\\nIf you love suprises, this mystery box is fo...</td>\n",
              "      <td>\\n$1.50\\n</td>\n",
              "      <td>\\n\\n</td>\n",
              "    </tr>\n",
              "  </tbody>\n",
              "</table>\n",
              "</div>"
            ],
            "text/plain": [
              "                  Item Title  ... Image\n",
              "0       \\nVegetable Basket\\n  ...  \\n\\n\n",
              "1  \\nRussian Nesting Dolls\\n  ...  \\n\\n\n",
              "2          \\nFish Painting\\n  ...  \\n\\n\n",
              "3            \\nDead Parrot\\n  ...  \\n\\n\n",
              "4            \\nMystery Box\\n  ...  \\n\\n\n",
              "\n",
              "[5 rows x 4 columns]"
            ]
          },
          "metadata": {
            "tags": []
          },
          "execution_count": 19
        }
      ]
    },
    {
      "cell_type": "code",
      "metadata": {
        "id": "wbiY8ZPLYojd",
        "colab_type": "code",
        "outputId": "14da0e74-6460-4312-fbb8-16d9df48e583",
        "colab": {
          "base_uri": "https://localhost:8080/",
          "height": 204
        }
      },
      "source": [
        "data = data.replace('\\n', '', regex=True)\n",
        "data = data.replace(',', '', regex=True)\n",
        "data = data.replace('  ', '', regex=True)\n",
        "\n",
        "\n",
        "data = data.drop('Image',axis=1)\n",
        "data.head()"
      ],
      "execution_count": 20,
      "outputs": [
        {
          "output_type": "execute_result",
          "data": {
            "text/html": [
              "<div>\n",
              "<style scoped>\n",
              "    .dataframe tbody tr th:only-of-type {\n",
              "        vertical-align: middle;\n",
              "    }\n",
              "\n",
              "    .dataframe tbody tr th {\n",
              "        vertical-align: top;\n",
              "    }\n",
              "\n",
              "    .dataframe thead th {\n",
              "        text-align: right;\n",
              "    }\n",
              "</style>\n",
              "<table border=\"1\" class=\"dataframe\">\n",
              "  <thead>\n",
              "    <tr style=\"text-align: right;\">\n",
              "      <th></th>\n",
              "      <th>Item Title</th>\n",
              "      <th>Description</th>\n",
              "      <th>Cost</th>\n",
              "    </tr>\n",
              "  </thead>\n",
              "  <tbody>\n",
              "    <tr>\n",
              "      <th>0</th>\n",
              "      <td>Vegetable Basket</td>\n",
              "      <td>This vegetable basket is the perfect gift for ...</td>\n",
              "      <td>$15.00</td>\n",
              "    </tr>\n",
              "    <tr>\n",
              "      <th>1</th>\n",
              "      <td>Russian Nesting Dolls</td>\n",
              "      <td>Hand-painted by trained monkeys these exquisit...</td>\n",
              "      <td>$10000.52</td>\n",
              "    </tr>\n",
              "    <tr>\n",
              "      <th>2</th>\n",
              "      <td>Fish Painting</td>\n",
              "      <td>If something seems fishy about this painting i...</td>\n",
              "      <td>$10005.00</td>\n",
              "    </tr>\n",
              "    <tr>\n",
              "      <th>3</th>\n",
              "      <td>Dead Parrot</td>\n",
              "      <td>This is an ex-parrot! Or maybe he's only resting?</td>\n",
              "      <td>$0.50</td>\n",
              "    </tr>\n",
              "    <tr>\n",
              "      <th>4</th>\n",
              "      <td>Mystery Box</td>\n",
              "      <td>If you love suprises this mystery box is for y...</td>\n",
              "      <td>$1.50</td>\n",
              "    </tr>\n",
              "  </tbody>\n",
              "</table>\n",
              "</div>"
            ],
            "text/plain": [
              "              Item Title  ...       Cost\n",
              "0       Vegetable Basket  ...     $15.00\n",
              "1  Russian Nesting Dolls  ...  $10000.52\n",
              "2          Fish Painting  ...  $10005.00\n",
              "3            Dead Parrot  ...      $0.50\n",
              "4            Mystery Box  ...      $1.50\n",
              "\n",
              "[5 rows x 3 columns]"
            ]
          },
          "metadata": {
            "tags": []
          },
          "execution_count": 20
        }
      ]
    },
    {
      "cell_type": "markdown",
      "metadata": {
        "id": "Yq_0-hXII8lI",
        "colab_type": "text"
      },
      "source": [
        "## Save to CSV File"
      ]
    },
    {
      "cell_type": "code",
      "metadata": {
        "id": "6GojZQqoaVz5",
        "colab_type": "code",
        "colab": {}
      },
      "source": [
        "data.to_csv('file2.csv', index=False)"
      ],
      "execution_count": 0,
      "outputs": []
    },
    {
      "cell_type": "code",
      "metadata": {
        "id": "lxIuvDvTlUR7",
        "colab_type": "code",
        "colab": {
          "base_uri": "https://localhost:8080/",
          "height": 139
        },
        "outputId": "9b8e3685-852f-4613-ca38-2ed3a68a6118"
      },
      "source": [
        "!cat file2.csv"
      ],
      "execution_count": 22,
      "outputs": [
        {
          "output_type": "stream",
          "text": [
            "Item Title,Description,Cost\n",
            "Vegetable Basket,This vegetable basket is the perfect gift for your health conscious (or overweight) friends!Now with super-colorful bell peppers!,$15.00\n",
            "Russian Nesting Dolls,\"Hand-painted by trained monkeys these exquisite dolls are priceless! And by \"\"priceless\"\" we mean \"\"extremely expensive\"\"! 8 entire dolls per set! Octuple the presents!\",$10000.52\n",
            "Fish Painting,If something seems fishy about this painting it's because it's a fish! Also hand-painted by trained monkeys!,$10005.00\n",
            "Dead Parrot,This is an ex-parrot! Or maybe he's only resting?,$0.50\n",
            "Mystery Box,If you love suprises this mystery box is for you! Do not place on light-colored surfaces. May cause oil staining. Keep your friends guessing!,$1.50\n"
          ],
          "name": "stdout"
        }
      ]
    },
    {
      "cell_type": "markdown",
      "metadata": {
        "id": "lOETjK8Nn02N",
        "colab_type": "text"
      },
      "source": [
        "\n",
        "\n",
        "---\n",
        "\n"
      ]
    },
    {
      "cell_type": "markdown",
      "metadata": {
        "id": "dI3ll223Mcoa",
        "colab_type": "text"
      },
      "source": [
        "#Example 3"
      ]
    },
    {
      "cell_type": "markdown",
      "metadata": {
        "id": "1Mrt_v2MM0na",
        "colab_type": "text"
      },
      "source": [
        "## query and condition"
      ]
    },
    {
      "cell_type": "code",
      "metadata": {
        "id": "b5s_0iMrFTFM",
        "colab_type": "code",
        "colab": {}
      },
      "source": [
        "from urllib.request import urlopen\n",
        "from bs4 import BeautifulSoup\n",
        "\n",
        "html = urlopen('http://www.pythonscraping.com/pages/page3.html')\n",
        "bs = BeautifulSoup(html, 'html.parser')\n"
      ],
      "execution_count": 0,
      "outputs": []
    },
    {
      "cell_type": "code",
      "metadata": {
        "id": "hiYYTEGe8eZ5",
        "colab_type": "code",
        "colab": {
          "base_uri": "https://localhost:8080/",
          "height": 68
        },
        "outputId": "faec0bfe-6b8b-4347-f43f-0ca891e33aca"
      },
      "source": [
        "price = bs.find('img', {'src':'../img/gifts/img1.jpg'}).parent.previous_sibling.get_text()\n",
        "print(price)"
      ],
      "execution_count": 24,
      "outputs": [
        {
          "output_type": "stream",
          "text": [
            "\n",
            "$15.00\n",
            "\n"
          ],
          "name": "stdout"
        }
      ]
    },
    {
      "cell_type": "code",
      "metadata": {
        "id": "4IIblIBdFTFT",
        "colab_type": "code",
        "outputId": "bf0c9f05-20d4-4ba3-ab5f-a872ac01a020",
        "colab": {
          "base_uri": "https://localhost:8080/",
          "height": 34
        }
      },
      "source": [
        "bs.find_all(lambda tag: tag.get_text() == 'Or maybe he\\'s only resting?')"
      ],
      "execution_count": 25,
      "outputs": [
        {
          "output_type": "execute_result",
          "data": {
            "text/plain": [
              "[<span class=\"excitingNote\">Or maybe he's only resting?</span>]"
            ]
          },
          "metadata": {
            "tags": []
          },
          "execution_count": 25
        }
      ]
    },
    {
      "cell_type": "code",
      "metadata": {
        "id": "rIvcebZDFTFX",
        "colab_type": "code",
        "outputId": "07badc14-3f56-4589-9398-45ff14ab4081",
        "colab": {
          "base_uri": "https://localhost:8080/",
          "height": 34
        }
      },
      "source": [
        "bs.find_all('', text='Or maybe he\\'s only resting?')"
      ],
      "execution_count": 26,
      "outputs": [
        {
          "output_type": "execute_result",
          "data": {
            "text/plain": [
              "[\"Or maybe he's only resting?\"]"
            ]
          },
          "metadata": {
            "tags": []
          },
          "execution_count": 26
        }
      ]
    }
  ]
}